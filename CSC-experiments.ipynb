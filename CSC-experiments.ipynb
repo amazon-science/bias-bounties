{
 "cells": [
  {
   "cell_type": "markdown",
   "id": "5b911c19",
   "metadata": {},
   "source": [
    "## CSC Updater \n",
    "\n",
    "This notebook walks you through the CSC updater on a single learning task."
   ]
  },
  {
   "cell_type": "markdown",
   "id": "8c24b0ac",
   "metadata": {},
   "source": [
    "Importing libraries:"
   ]
  },
  {
   "cell_type": "code",
   "execution_count": 1,
   "id": "3ec94c51",
   "metadata": {},
   "outputs": [],
   "source": [
    "import numpy as np\n",
    "import pandas as pd\n",
    "import copy\n",
    "\n",
    "from sklearn.tree import DecisionTreeClassifier\n",
    "from sklearn import metrics\n",
    "from sklearn import ensemble\n",
    "\n",
    "import model\n",
    "import verifier\n",
    "import cscUpdater\n",
    "\n",
    "import importlib as imp\n",
    "\n",
    "import warnings\n",
    "warnings.filterwarnings('ignore')"
   ]
  },
  {
   "cell_type": "markdown",
   "id": "c1a9f3f5",
   "metadata": {},
   "source": [
    "Importing in the ACS dataset."
   ]
  },
  {
   "cell_type": "code",
   "execution_count": 2,
   "id": "962b4756",
   "metadata": {},
   "outputs": [],
   "source": [
    "import acsDataParallel\n",
    "\n",
    "test_size = 0.2 #train-test split\n",
    "\n",
    "acs_task = 'income' # options: employment, income, public_coverage, mobility, and travel_time.\n",
    "acs_year = 2016 #must be >= 2014. Upper bound unknown.\n",
    "acs_states = ['NY']\n",
    "acs_horizon='1-Year' #1-Year or 5-Year\n",
    "acs_survey='person' #'person' or 'household'\n",
    "\n",
    "# for subsampling rows: can specify first and last of data to be pulled. currently pulling everything.\n",
    "row_start = 0 \n",
    "row_end = 1000\n",
    "\n",
    "# for subsampling columns. note: can only subsample consecutive columns with current implementation\n",
    "col_start=0\n",
    "col_end=-1\n",
    "\n",
    "[train_x, train_y, test_x, test_y, demo_group_functions, demo_group_indicators, min_age, mid_age] = acsDataParallel.get_data(\n",
    "    test_size, acs_task, acs_year, acs_states,acs_horizon=acs_horizon, acs_survey=acs_survey, row_start = row_start,\n",
    "    row_end = row_end, col_start=col_start, col_end=col_end)"
   ]
  },
  {
   "cell_type": "markdown",
   "id": "1bebadd3",
   "metadata": {},
   "source": [
    "Initializing our model to a decision stump"
   ]
  },
  {
   "cell_type": "code",
   "execution_count": 3,
   "id": "2a2a25b4",
   "metadata": {},
   "outputs": [],
   "source": [
    "initial_model = DecisionTreeClassifier(max_depth = 1, random_state=0)\n",
    "initial_model.fit(train_x, train_y);"
   ]
  },
  {
   "cell_type": "markdown",
   "id": "8fdb429b",
   "metadata": {},
   "source": [
    "Here's where we build the updater. "
   ]
  },
  {
   "cell_type": "code",
   "execution_count": 4,
   "id": "b08607b0",
   "metadata": {},
   "outputs": [],
   "source": [
    "imp.reload(cscUpdater)\n",
    "imp.reload(model)\n",
    "imp.reload(verifier)\n",
    "\n",
    "def verify_size(x, group):\n",
    "    # helper function that checks that the discovered group isn't too small to run on\n",
    "    g_indices = group(x)\n",
    "    g_xs = x[g_indices]\n",
    "    if len(g_xs) == 0:\n",
    "        return False\n",
    "    else:\n",
    "        return True\n",
    "\n",
    "def run_updates(n_rounds):\n",
    "    # build the initial model\n",
    "    mod = model.PointerDecisionList(initial_model.predict, [])\n",
    "    mod.test_errors.append(cscUpdater.measure_group_errors(mod, test_x, test_y))\n",
    "    mod.train_errors.append(cscUpdater.measure_group_errors(mod, train_x, train_y))\n",
    "    \n",
    "    gs_to_update = []\n",
    " \n",
    "    for i in range(n_rounds):\n",
    "        print(i)\n",
    "        # get the predicted ys for the current model\n",
    "        pred_y = np.array(mod.predict(train_x),dtype=bool)\n",
    "        # train the cost regressions\n",
    "        [r0, r1, _] = cscUpdater.training_r0_r1(train_x, train_y, pred_y)\n",
    "        # generate your u_g and h\n",
    "        u_g = cscUpdater.g_gen(r0, r1)\n",
    "        h = cscUpdater.h_gen(r0, r1)\n",
    "        \n",
    "        # run a check to see if the u_g and h are a) too small or b) don't improve compared to the current model\n",
    "        size_check = verify_size(test_x, u_g)\n",
    "        if size_check:\n",
    "            improvement_check = verifier.is_proposed_group_good_csc(mod, test_x, test_y, h, u_g)\n",
    "        else:\n",
    "            print(\"Group discovered not contained in test set, quitting update process\")\n",
    "            break\n",
    "            \n",
    "        # if they pass the check, run the update\n",
    "        if improvement_check:\n",
    "            # run the update\n",
    "            cscUpdater.iterative_update(mod, h, u_g, train_x, train_y, test_x, test_y, \"u_g%s\" % i)\n",
    "            \n",
    "        # otherwise stop running\n",
    "        else:\n",
    "            print(\"Proposed group does not improve model, quitting update process\")\n",
    "            break\n",
    "        \n",
    "        gs_to_update.append(u_g)\n",
    "            \n",
    "    return [mod, gs_to_update, mod.test_errors, mod.train_errors]"
   ]
  },
  {
   "cell_type": "markdown",
   "id": "e56fad0c",
   "metadata": {},
   "source": [
    "The below runs the CSC updater for a number of rounds specified by num_rounds (Or less, if the model stops improving or g gets too small)"
   ]
  },
  {
   "cell_type": "code",
   "execution_count": 5,
   "id": "f60e7f94",
   "metadata": {},
   "outputs": [
    {
     "name": "stdout",
     "output_type": "stream",
     "text": [
      "0\n",
      "Error of current model on proposed group: 0.6599999999999999\n",
      "Error of h trained on proposed group: 0.33999999999999997\n",
      "1\n",
      "Error of current model on proposed group: 0.25\n",
      "Error of h trained on proposed group: 0.75\n",
      "Proposed group does not improve model, quitting update process\n"
     ]
    }
   ],
   "source": [
    "num_rounds = 4\n",
    "[f, gs, test_errors, train_errors] = run_updates(num_rounds)"
   ]
  },
  {
   "cell_type": "markdown",
   "id": "966caea2",
   "metadata": {},
   "source": [
    "Finally, we can plot performance."
   ]
  },
  {
   "cell_type": "code",
   "execution_count": 6,
   "id": "9a6acdbe",
   "metadata": {},
   "outputs": [
    {
     "data": {
      "image/png": "[encoded data removed]",
      "text/plain": [
       "<Figure size 1200x800 with 1 Axes>"
      ]
     },
     "metadata": {},
     "output_type": "display_data"
    }
   ],
   "source": [
    "import matplotlib.pyplot as plt\n",
    "\n",
    "test_errors_by_group = [[test_errors[j][i] for j in range(len(test_errors))] \n",
    "                        for i in range(len(test_errors))]\n",
    "\n",
    "fig=plt.figure(figsize=(12,8), dpi= 100, facecolor='w', edgecolor='k') # make plot bigger\n",
    "\n",
    "xs = np.arange(len(test_errors))\n",
    "colors = ['maroon', 'red', 'orange',\n",
    "          'chartreuse', 'green', 'blue', 'deepskyblue',\n",
    "          'purple', 'plum',  'pink', 'gray', 'fuchsia', 'black']\n",
    "group_indicators =  ['Total'] + ['g%s'%(i+1) for i in range(len(gs))]\n",
    "for i in range(len(test_errors_by_group)):\n",
    "    plt.plot(xs[i:], test_errors_by_group[i][i:], color=colors[i], label = group_indicators[i])\n",
    "    plt.plot(xs[:i+1], test_errors_by_group[i][:i+1], linestyle='--', color=colors[i])\n",
    "plt.legend()\n",
    "plt.xlabel('Round of update algorithm')\n",
    "plt.ylabel(\"Zero-One Loss on Groups\")\n",
    "plt.title(\"Performance of CSC Updater Across Updates\")\n",
    "plt.savefig(\"CSC_errs.png\")"
   ]
  },
  {
   "cell_type": "markdown",
   "id": "16465d30",
   "metadata": {},
   "source": [
    "We can also look at the performance of the different demographic groups over multiple rounds:"
   ]
  },
  {
   "cell_type": "code",
   "execution_count": 7,
   "id": "41fe1dbc",
   "metadata": {},
   "outputs": [],
   "source": [
    "demo_errs = []\n",
    "i = 0\n",
    "for g in [lambda x: np.ones(len(x),dtype=bool)] + demo_group_functions:\n",
    "    indices = g(test_x) == 1\n",
    "    ys = test_y[indices]\n",
    "    if len(ys) > 0:\n",
    "        demo_errs.append(cscUpdater.all_group_errors(f, g, test_x, test_y))\n",
    "    else:\n",
    "        demo_errs.append([-1])\n",
    "    i+=1"
   ]
  },
  {
   "cell_type": "code",
   "execution_count": 8,
   "id": "06835f33",
   "metadata": {},
   "outputs": [
    {
     "data": {
      "image/png": "[encoded data removed]",
      "text/plain": [
       "<Figure size 1200x800 with 1 Axes>"
      ]
     },
     "metadata": {},
     "output_type": "display_data"
    }
   ],
   "source": [
    "import matplotlib.pyplot as plt\n",
    "\n",
    "fig=plt.figure(figsize=(12,8), dpi= 100, facecolor='w', edgecolor='k') # make plot bigger\n",
    "\n",
    "xs = np.arange(f.num_rounds+1)\n",
    "colors = ['maroon', 'red', 'orange',\n",
    "          'chartreuse', 'green', 'blue', 'deepskyblue',\n",
    "          'purple', 'plum',  'pink', 'gray', 'fuchsia', 'black']\n",
    "group_indicators =  ['Total'] + demo_group_indicators \n",
    "for i in range(len(demo_errs)):\n",
    "    if demo_errs[i][0] != -1:\n",
    "        plt.plot(xs, demo_errs[i], color=colors[i], label = group_indicators[i])\n",
    "plt.legend()\n",
    "plt.xlabel('Round of update algorithm')\n",
    "plt.ylabel(\"Zero-One Loss on Groups\")\n",
    "plt.title(\"Performance of CSC Updater Across Updates\")\n",
    "plt.savefig(\"CSC_errs_demo.png\")"
   ]
  },
  {
   "cell_type": "markdown",
   "id": "c0642c27",
   "metadata": {},
   "source": [
    "The actual group errors at the end of the CSC updates are as follows. A \"-1\" appears in a column if the group error was unable to be calculated due to their not being any individuals present in that group in the test data sample."
   ]
  },
  {
   "cell_type": "code",
   "execution_count": 9,
   "id": "4af3b091",
   "metadata": {},
   "outputs": [
    {
     "data": {
      "text/html": [
       "<div>\n",
       "<style scoped>\n",
       "    .dataframe tbody tr th:only-of-type {\n",
       "        vertical-align: middle;\n",
       "    }\n",
       "\n",
       "    .dataframe tbody tr th {\n",
       "        vertical-align: top;\n",
       "    }\n",
       "\n",
       "    .dataframe thead th {\n",
       "        text-align: right;\n",
       "    }\n",
       "</style>\n",
       "<table border=\"1\" class=\"dataframe\">\n",
       "  <thead>\n",
       "    <tr style=\"text-align: right;\">\n",
       "      <th></th>\n",
       "      <th>Total</th>\n",
       "      <th>White</th>\n",
       "      <th>Black or African American</th>\n",
       "      <th>Asian</th>\n",
       "      <th>Native Hawaiian, Native American, Native Alaskan, or Pacific Islander</th>\n",
       "      <th>Some Other Race</th>\n",
       "      <th>Two or More Races</th>\n",
       "      <th>Male</th>\n",
       "      <th>Female</th>\n",
       "      <th>Young</th>\n",
       "      <th>Middle</th>\n",
       "      <th>Old</th>\n",
       "    </tr>\n",
       "  </thead>\n",
       "  <tbody>\n",
       "    <tr>\n",
       "      <th>0</th>\n",
       "      <td>0.24</td>\n",
       "      <td>0.234483</td>\n",
       "      <td>0.344828</td>\n",
       "      <td>0.125</td>\n",
       "      <td>0.166667</td>\n",
       "      <td>0.0</td>\n",
       "      <td>0.5</td>\n",
       "      <td>0.237624</td>\n",
       "      <td>0.242424</td>\n",
       "      <td>0.183673</td>\n",
       "      <td>0.309524</td>\n",
       "      <td>0.19403</td>\n",
       "    </tr>\n",
       "  </tbody>\n",
       "</table>\n",
       "</div>"
      ],
      "text/plain": [
       "   Total     White  Black or African American  Asian  \\\n",
       "0   0.24  0.234483                   0.344828  0.125   \n",
       "\n",
       "   Native Hawaiian, Native American, Native Alaskan, or Pacific Islander  \\\n",
       "0                                           0.166667                       \n",
       "\n",
       "   Some Other Race  Two or More Races      Male    Female     Young    Middle  \\\n",
       "0              0.0                0.5  0.237624  0.242424  0.183673  0.309524   \n",
       "\n",
       "       Old  \n",
       "0  0.19403  "
      ]
     },
     "execution_count": 9,
     "metadata": {},
     "output_type": "execute_result"
    }
   ],
   "source": [
    "y = [demo_errs[i][-1] for i in range(len(demo_errs))]\n",
    "df = pd.DataFrame([y])\n",
    "df.columns =  ['Total'] + demo_group_indicators\n",
    "df"
   ]
  },
  {
   "cell_type": "markdown",
   "id": "c2d9ba4c",
   "metadata": {},
   "source": [
    "What can we actually say about the g's? What do they look like? At a minimum, can measure how many points are in each discovered group:"
   ]
  },
  {
   "cell_type": "code",
   "execution_count": 10,
   "id": "c07445e8",
   "metadata": {},
   "outputs": [
    {
     "name": "stdout",
     "output_type": "stream",
     "text": [
      "Number of datapoints in group Total: 200\n",
      "Number of datapoints in group u_g0: 50\n"
     ]
    }
   ],
   "source": [
    "def print_group_info(x, fun):\n",
    "        groups = fun.predicates\n",
    "        group_ind = fun.pred_names\n",
    "        g_indices = [g_(x) == 1 for g_ in groups]\n",
    "        for i in range(len(groups)):\n",
    "            print(\"Number of datapoints in group %s:\" % group_ind[i], sum(g_indices[i]))\n",
    "\n",
    "print_group_info(test_x, f)"
   ]
  },
  {
   "cell_type": "markdown",
   "id": "ea8a261d",
   "metadata": {},
   "source": [
    "One question is if the CSC approach is really doing anything better than just generating a single deep decision tree on the sample. Here, we look at the demographic errors of doing this"
   ]
  },
  {
   "cell_type": "code",
   "execution_count": 11,
   "id": "c51ea231",
   "metadata": {},
   "outputs": [],
   "source": [
    "dt = DecisionTreeClassifier(max_depth = 10, random_state=0)\n",
    "dt.fit(train_x, train_y);"
   ]
  },
  {
   "cell_type": "code",
   "execution_count": 12,
   "id": "d8e94736",
   "metadata": {},
   "outputs": [],
   "source": [
    "dt_group_errs = []\n",
    "for g in [lambda x: np.ones(len(x),dtype=bool)] + demo_group_functions:\n",
    "    indices = g(test_x)==1\n",
    "    xs = test_x[indices]\n",
    "    ys = test_y[indices]\n",
    "    if len(ys)!=0:\n",
    "        pred_ys = dt.predict(xs)\n",
    "        dt_group_errs.append(metrics.zero_one_loss(ys, pred_ys))\n",
    "    else:\n",
    "        dt_group_errs.append(-1)"
   ]
  },
  {
   "cell_type": "code",
   "execution_count": 13,
   "id": "3602bb9b",
   "metadata": {},
   "outputs": [
    {
     "data": {
      "text/html": [
       "<div>\n",
       "<style scoped>\n",
       "    .dataframe tbody tr th:only-of-type {\n",
       "        vertical-align: middle;\n",
       "    }\n",
       "\n",
       "    .dataframe tbody tr th {\n",
       "        vertical-align: top;\n",
       "    }\n",
       "\n",
       "    .dataframe thead th {\n",
       "        text-align: right;\n",
       "    }\n",
       "</style>\n",
       "<table border=\"1\" class=\"dataframe\">\n",
       "  <thead>\n",
       "    <tr style=\"text-align: right;\">\n",
       "      <th></th>\n",
       "      <th>Total</th>\n",
       "      <th>White</th>\n",
       "      <th>Black or African American</th>\n",
       "      <th>Asian</th>\n",
       "      <th>Native Hawaiian, Native American, Native Alaskan, or Pacific Islander</th>\n",
       "      <th>Some Other Race</th>\n",
       "      <th>Two or More Races</th>\n",
       "      <th>Male</th>\n",
       "      <th>Female</th>\n",
       "      <th>Young</th>\n",
       "      <th>Middle</th>\n",
       "      <th>Old</th>\n",
       "    </tr>\n",
       "  </thead>\n",
       "  <tbody>\n",
       "    <tr>\n",
       "      <th>DT</th>\n",
       "      <td>0.24</td>\n",
       "      <td>0.248276</td>\n",
       "      <td>0.275862</td>\n",
       "      <td>0.125</td>\n",
       "      <td>0.166667</td>\n",
       "      <td>0.0</td>\n",
       "      <td>0.5</td>\n",
       "      <td>0.247525</td>\n",
       "      <td>0.232323</td>\n",
       "      <td>0.142857</td>\n",
       "      <td>0.273810</td>\n",
       "      <td>0.268657</td>\n",
       "    </tr>\n",
       "    <tr>\n",
       "      <th>CSC</th>\n",
       "      <td>0.24</td>\n",
       "      <td>0.234483</td>\n",
       "      <td>0.344828</td>\n",
       "      <td>0.125</td>\n",
       "      <td>0.166667</td>\n",
       "      <td>0.0</td>\n",
       "      <td>0.5</td>\n",
       "      <td>0.237624</td>\n",
       "      <td>0.242424</td>\n",
       "      <td>0.183673</td>\n",
       "      <td>0.309524</td>\n",
       "      <td>0.194030</td>\n",
       "    </tr>\n",
       "  </tbody>\n",
       "</table>\n",
       "</div>"
      ],
      "text/plain": [
       "     Total     White  Black or African American  Asian  \\\n",
       "DT    0.24  0.248276                   0.275862  0.125   \n",
       "CSC   0.24  0.234483                   0.344828  0.125   \n",
       "\n",
       "     Native Hawaiian, Native American, Native Alaskan, or Pacific Islander  \\\n",
       "DT                                            0.166667                       \n",
       "CSC                                           0.166667                       \n",
       "\n",
       "     Some Other Race  Two or More Races      Male    Female     Young  \\\n",
       "DT               0.0                0.5  0.247525  0.232323  0.142857   \n",
       "CSC              0.0                0.5  0.237624  0.242424  0.183673   \n",
       "\n",
       "       Middle       Old  \n",
       "DT   0.273810  0.268657  \n",
       "CSC  0.309524  0.194030  "
      ]
     },
     "execution_count": 13,
     "metadata": {},
     "output_type": "execute_result"
    }
   ],
   "source": [
    "dataframe = pd.DataFrame([dt_group_errs, [demo_errs[i][-1] for i in range(len(demo_errs))]])\n",
    "dataframe.columns = ['Total'] + demo_group_indicators\n",
    "dataframe.index = [\"DT\", \"CSC\"]\n",
    "dataframe"
   ]
  },
  {
   "cell_type": "markdown",
   "id": "723564f3",
   "metadata": {},
   "source": [
    "It would also be nice to know how well it compares to the version of our algorithm that trains directly on all the demographic models."
   ]
  },
  {
   "cell_type": "code",
   "execution_count": 14,
   "id": "246a1ee5",
   "metadata": {},
   "outputs": [
    {
     "name": "stdout",
     "output_type": "stream",
     "text": [
      "Building initial model\n",
      "Running on group 1/11\n",
      "Group running on Some Other Race\n",
      "Error of current model on proposed group: 0.0\n",
      "Error of h trained on proposed group: 0.5\n",
      "Group Some Other Race is rejected\n",
      ".....................................................\n",
      "Running on group 2/11\n",
      "Group running on Young\n",
      "Error of current model on proposed group: 0.30612244897959184\n",
      "Error of h trained on proposed group: 0.20408163265306123\n",
      "Running iterative update for group: Young\n",
      "Model groups prior to update: \n",
      "['Total']\n",
      "Group errors on test set prior to update (over all groups)\n",
      "[nan nan nan nan nan nan nan nan nan nan nan nan]\n",
      "Group errors after new group has been prepended to PDL:\n",
      "[0.29500000000000004, 0.20408163265306123]\n",
      "Group Weights:\n",
      "[1.0, 0.245]\n",
      "No repairs needed.\n",
      "Group errors of every group, even those not yet introduced, on test set after repairs:\n",
      "['Total', 'Some Other Race', 'Young', 'Black or African American', 'Native Hawaiian, Native American, Native Alaskan, or Pacific Islander', 'Female', 'Old', 'Male', 'White', 'Asian', 'Middle', 'Two or More Races']\n",
      "[0.295      0.         0.20408163 0.34482759 0.16666667 0.27272727\n",
      " 0.26865672 0.31683168 0.29655172 0.375      0.36904762 0.5       ]\n",
      ".....................................................\n",
      "Running on group 3/11\n",
      "Group running on Black or African American\n",
      "Error of current model on proposed group: 0.3448275862068966\n",
      "Error of h trained on proposed group: 0.4137931034482759\n",
      "Group Black or African American is rejected\n",
      ".....................................................\n",
      "Running on group 4/11\n",
      "Group running on Native Hawaiian, Native American, Native Alaskan, or Pacific Islander\n",
      "Error of current model on proposed group: 0.16666666666666663\n",
      "Error of h trained on proposed group: 0.25\n",
      "Group Native Hawaiian, Native American, Native Alaskan, or Pacific Islander is rejected\n",
      ".....................................................\n",
      "Running on group 5/11\n",
      "Group running on Female\n",
      "Error of current model on proposed group: 0.2727272727272727\n",
      "Error of h trained on proposed group: 0.26262626262626265\n",
      "Running iterative update for group: Female\n",
      "Model groups prior to update: \n",
      "['Total', 'Young']\n",
      "Group errors on test set prior to update (over all groups)\n",
      "[nan nan nan nan nan nan nan nan nan nan nan nan]\n",
      "Group errors after new group has been prepended to PDL:\n",
      "[0.29000000000000004, 0.20408163265306123, 0.26262626262626265]\n",
      "Group Weights:\n",
      "[1.0, 0.245, 0.495]\n",
      "No repairs needed.\n",
      "Group errors of every group, even those not yet introduced, on test set after repairs:\n",
      "['Total', 'Some Other Race', 'Young', 'Black or African American', 'Native Hawaiian, Native American, Native Alaskan, or Pacific Islander', 'Female', 'Old', 'Male', 'White', 'Asian', 'Middle', 'Two or More Races']\n",
      "[0.29       0.         0.20408163 0.31034483 0.33333333 0.26262626\n",
      " 0.29850746 0.31683168 0.29655172 0.25       0.33333333 0.        ]\n",
      ".....................................................\n",
      "Running on group 6/11\n",
      "Group running on Old\n",
      "Error of current model on proposed group: 0.29850746268656714\n",
      "Error of h trained on proposed group: 0.29850746268656714\n",
      "Group Old is rejected\n",
      ".....................................................\n",
      "Running on group 7/11\n",
      "Group running on Male\n",
      "Error of current model on proposed group: 0.3168316831683168\n",
      "Error of h trained on proposed group: 0.29702970297029707\n",
      "Running iterative update for group: Male\n",
      "Model groups prior to update: \n",
      "['Total', 'Young', 'Female']\n",
      "Group errors on test set prior to update (over all groups)\n",
      "[nan nan nan nan nan nan nan nan nan nan nan nan]\n",
      "Group errors after new group has been prepended to PDL:\n",
      "[0.28, 0.18367346938775508, 0.26262626262626265, 0.29702970297029707]\n",
      "Group Weights:\n",
      "[1.0, 0.245, 0.495, 0.505]\n",
      "No repairs needed.\n",
      "Group errors of every group, even those not yet introduced, on test set after repairs:\n",
      "['Total', 'Some Other Race', 'Young', 'Black or African American', 'Native Hawaiian, Native American, Native Alaskan, or Pacific Islander', 'Female', 'Old', 'Male', 'White', 'Asian', 'Middle', 'Two or More Races']\n",
      "[0.28       0.         0.18367347 0.4137931  0.33333333 0.26262626\n",
      " 0.29850746 0.2970297  0.24827586 0.5        0.32142857 0.        ]\n",
      ".....................................................\n",
      "Running on group 8/11\n",
      "Group running on White\n",
      "Error of current model on proposed group: 0.24827586206896557\n",
      "Error of h trained on proposed group: 0.2827586206896552\n",
      "Group White is rejected\n",
      ".....................................................\n",
      "Running on group 9/11\n",
      "Group running on Asian\n",
      "Error of current model on proposed group: 0.5\n",
      "Error of h trained on proposed group: 0.375\n",
      "Running iterative update for group: Asian\n",
      "Model groups prior to update: \n",
      "['Total', 'Young', 'Female', 'Male']\n",
      "Group errors on test set prior to update (over all groups)\n",
      "[nan nan nan nan nan nan nan nan nan nan nan nan]\n",
      "Group errors after new group has been prepended to PDL:\n",
      "[0.275, 0.1428571428571429, 0.26262626262626265, 0.28712871287128716, 0.375]\n",
      "Group Weights:\n",
      "[1.0, 0.245, 0.495, 0.505, 0.04]\n",
      "Repaired Nodes:\n",
      "[['Asian', 0]]\n",
      "Group errors of every group, even those not yet introduced, on test set after repairs:\n",
      "['Total', 'Some Other Race', 'Young', 'Black or African American', 'Native Hawaiian, Native American, Native Alaskan, or Pacific Islander', 'Female', 'Old', 'Male', 'White', 'Asian', 'Middle', 'Two or More Races']\n",
      "[0.265      0.         0.14285714 0.4137931  0.33333333 0.26262626\n",
      " 0.29850746 0.26732673 0.24827586 0.125      0.30952381 0.        ]\n",
      ".....................................................\n",
      "Running on group 10/11\n",
      "Group running on Middle\n",
      "Error of current model on proposed group: 0.30952380952380953\n",
      "Error of h trained on proposed group: 0.2857142857142857\n",
      "Running iterative update for group: Middle\n",
      "Model groups prior to update: \n",
      "['Total', 'Young', 'Female', 'Male', 'Asian']\n",
      "Group errors on test set prior to update (over all groups)\n",
      "[0.265      0.         0.14285714 0.4137931  0.33333333 0.26262626\n",
      " 0.29850746 0.26732673 0.24827586 0.125      0.30952381 0.        ]\n",
      "Group errors after new group has been prepended to PDL:\n",
      "[0.255, 0.1428571428571429, 0.23232323232323238, 0.27722772277227725, 0.25, 0.2857142857142857]\n",
      "Group Weights:\n",
      "[1.0, 0.245, 0.495, 0.505, 0.04, 0.42]\n",
      "Repaired Nodes:\n",
      "[['Male', 4]]\n",
      "Group errors of every group, even those not yet introduced, on test set after repairs:\n",
      "['Total', 'Some Other Race', 'Young', 'Black or African American', 'Native Hawaiian, Native American, Native Alaskan, or Pacific Islander', 'Female', 'Old', 'Male', 'White', 'Asian', 'Middle', 'Two or More Races']\n",
      "[0.25       0.         0.14285714 0.4137931  0.25       0.23232323\n",
      " 0.29850746 0.26732673 0.24137931 0.         0.27380952 0.        ]\n",
      ".....................................................\n",
      "Running on group 11/11\n",
      "Group running on Two or More Races\n",
      "Error of current model on proposed group: 0.0\n",
      "Error of h trained on proposed group: 0.0\n",
      "Group Two or More Races is rejected\n",
      ".....................................................\n"
     ]
    }
   ],
   "source": [
    "import run_demo_updates\n",
    "import updater\n",
    "imp.reload(run_demo_updates)\n",
    "imp.reload(updater)\n",
    "\n",
    "[demo_update_test_errors, demo_update_train_errors] = run_demo_updates.updater_wrapper(initial_model, demo_group_functions, demo_group_indicators, \n",
    "                                 test_x, test_y, train_x, train_y,\n",
    "                                 classifier = \"Decision Tree\", dt_depth=10)"
   ]
  },
  {
   "cell_type": "markdown",
   "id": "27826ebc",
   "metadata": {},
   "source": [
    "Comparing the error of this to our other two models gives us:"
   ]
  },
  {
   "cell_type": "code",
   "execution_count": 15,
   "id": "df4540c2",
   "metadata": {},
   "outputs": [
    {
     "data": {
      "text/html": [
       "<div>\n",
       "<style scoped>\n",
       "    .dataframe tbody tr th:only-of-type {\n",
       "        vertical-align: middle;\n",
       "    }\n",
       "\n",
       "    .dataframe tbody tr th {\n",
       "        vertical-align: top;\n",
       "    }\n",
       "\n",
       "    .dataframe thead th {\n",
       "        text-align: right;\n",
       "    }\n",
       "</style>\n",
       "<table border=\"1\" class=\"dataframe\">\n",
       "  <thead>\n",
       "    <tr style=\"text-align: right;\">\n",
       "      <th></th>\n",
       "      <th>Total</th>\n",
       "      <th>White</th>\n",
       "      <th>Black or African American</th>\n",
       "      <th>Asian</th>\n",
       "      <th>Native Hawaiian, Native American, Native Alaskan, or Pacific Islander</th>\n",
       "      <th>Some Other Race</th>\n",
       "      <th>Two or More Races</th>\n",
       "      <th>Male</th>\n",
       "      <th>Female</th>\n",
       "      <th>Young</th>\n",
       "      <th>Middle</th>\n",
       "      <th>Old</th>\n",
       "    </tr>\n",
       "  </thead>\n",
       "  <tbody>\n",
       "    <tr>\n",
       "      <th>DT</th>\n",
       "      <td>0.24</td>\n",
       "      <td>0.248276</td>\n",
       "      <td>0.275862</td>\n",
       "      <td>0.125000</td>\n",
       "      <td>0.166667</td>\n",
       "      <td>0.000000</td>\n",
       "      <td>0.500000</td>\n",
       "      <td>0.247525</td>\n",
       "      <td>0.232323</td>\n",
       "      <td>0.142857</td>\n",
       "      <td>0.273810</td>\n",
       "      <td>0.268657</td>\n",
       "    </tr>\n",
       "    <tr>\n",
       "      <th>CSC</th>\n",
       "      <td>0.24</td>\n",
       "      <td>0.234483</td>\n",
       "      <td>0.344828</td>\n",
       "      <td>0.125000</td>\n",
       "      <td>0.166667</td>\n",
       "      <td>0.000000</td>\n",
       "      <td>0.500000</td>\n",
       "      <td>0.237624</td>\n",
       "      <td>0.242424</td>\n",
       "      <td>0.183673</td>\n",
       "      <td>0.309524</td>\n",
       "      <td>0.194030</td>\n",
       "    </tr>\n",
       "    <tr>\n",
       "      <th>Demographic-Trained PDL</th>\n",
       "      <td>0.25</td>\n",
       "      <td>0.000000</td>\n",
       "      <td>0.142857</td>\n",
       "      <td>0.413793</td>\n",
       "      <td>0.250000</td>\n",
       "      <td>0.232323</td>\n",
       "      <td>0.298507</td>\n",
       "      <td>0.267327</td>\n",
       "      <td>0.241379</td>\n",
       "      <td>0.000000</td>\n",
       "      <td>0.273810</td>\n",
       "      <td>0.000000</td>\n",
       "    </tr>\n",
       "  </tbody>\n",
       "</table>\n",
       "</div>"
      ],
      "text/plain": [
       "                         Total     White  Black or African American     Asian  \\\n",
       "DT                        0.24  0.248276                   0.275862  0.125000   \n",
       "CSC                       0.24  0.234483                   0.344828  0.125000   \n",
       "Demographic-Trained PDL   0.25  0.000000                   0.142857  0.413793   \n",
       "\n",
       "                         Native Hawaiian, Native American, Native Alaskan, or Pacific Islander  \\\n",
       "DT                                                                0.166667                       \n",
       "CSC                                                               0.166667                       \n",
       "Demographic-Trained PDL                                           0.250000                       \n",
       "\n",
       "                         Some Other Race  Two or More Races      Male  \\\n",
       "DT                              0.000000           0.500000  0.247525   \n",
       "CSC                             0.000000           0.500000  0.237624   \n",
       "Demographic-Trained PDL         0.232323           0.298507  0.267327   \n",
       "\n",
       "                           Female     Young    Middle       Old  \n",
       "DT                       0.232323  0.142857  0.273810  0.268657  \n",
       "CSC                      0.242424  0.183673  0.309524  0.194030  \n",
       "Demographic-Trained PDL  0.241379  0.000000  0.273810  0.000000  "
      ]
     },
     "execution_count": 15,
     "metadata": {},
     "output_type": "execute_result"
    }
   ],
   "source": [
    "demo_updates_test_errors = demo_update_test_errors.dropna()\n",
    "dataframe = pd.DataFrame([dt_group_errs, [demo_errs[i][-1] for i in range(len(demo_errs))], demo_updates_test_errors.iloc[-1]])\n",
    "dataframe.columns = ['Total'] + demo_group_indicators\n",
    "dataframe.index = [\"DT\", \"CSC\", \"Demographic-Trained PDL\"]\n",
    "dataframe"
   ]
  },
  {
   "cell_type": "code",
   "execution_count": null,
   "id": "508ac777",
   "metadata": {},
   "outputs": [],
   "source": []
  },
  {
   "cell_type": "code",
   "execution_count": null,
   "id": "d04d7e65",
   "metadata": {},
   "outputs": [],
   "source": []
  },
  {
   "cell_type": "code",
   "execution_count": null,
   "id": "b9dc1527",
   "metadata": {},
   "outputs": [],
   "source": []
  }
 ],
 "metadata": {
  "kernelspec": {
   "display_name": "Python 3 (ipykernel)",
   "language": "python",
   "name": "python3"
  },
  "language_info": {
   "codemirror_mode": {
    "name": "ipython",
    "version": 3
   },
   "file_extension": ".py",
   "mimetype": "text/x-python",
   "name": "python",
   "nbconvert_exporter": "python",
   "pygments_lexer": "ipython3",
   "version": "3.9.7"
  }
 },
 "nbformat": 4,
 "nbformat_minor": 5
}
